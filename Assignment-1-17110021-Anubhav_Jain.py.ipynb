{
 "cells": [
  {
   "cell_type": "markdown",
   "metadata": {},
   "source": [
    "# Question 1 (No. of Tokens,Types and TTR)"
   ]
  },
  {
   "cell_type": "code",
   "execution_count": 40,
   "metadata": {},
   "outputs": [
    {
     "name": "stdout",
     "output_type": "stream",
     "text": [
      "No. of tokens  305672\n",
      "No. of Types 43853\n",
      "TTR 0.14346423617472323\n"
     ]
    }
   ],
   "source": [
    "from nltk.tokenize import TweetTokenizer\n",
    "import nltk\n",
    "import string\n",
    "import sys\n",
    "import numpy as np\n",
    "import re\n",
    "import matplotlib.pyplot as plt\n",
    "from scipy.optimize import curve_fit\n",
    "from nltk.corpus import wordnet\n",
    "import math\n",
    "import random\n",
    "\n",
    "\n",
    "punc1 = string.punctuation\n",
    "punc = []\n",
    "for i in punc1:\n",
    "    punc.append(i)\n",
    "\n",
    "#print(punc, len(punc))\n",
    "#print(\"Default encoding is .. \",sys.getdefaultencoding())\n",
    "\n",
    "file = open('/Users/anubhavjain/Desktop/Anubhav_MacBook_Pro/Natural Language Processing/NLP_2/tweets-dataset.csv', \"r\", encoding=\"utf-8\")\n",
    "\n",
    "tknr = TweetTokenizer(strip_handles=True)\n",
    "sum = 0\n",
    "count_punc = 0\n",
    "arr = []\n",
    "\n",
    "heap_tok = []\n",
    "heap_voc = []\n",
    "c_tok = 0\n",
    "c_voc = 0\n",
    "s_voc = set()\n",
    "\n",
    "for i in file:\n",
    "    a = tknr.tokenize(i)\n",
    "    b = []\n",
    "    for j in a:\n",
    "        if(re.match(r\"\\.[\\s.]*\\.\",j)):\n",
    "            count_punc+=1\n",
    "        elif(j in punc):\n",
    "            count_punc+=1\n",
    "        elif(re.match(r\"https:\\/\\/\\S*|pic.twitter\\S*\",j)):\n",
    "            count_punc+=1\n",
    "        else:\n",
    "            arr.append(j)\n",
    "            b.append(j)\n",
    "            s_voc.add(j)\n",
    "\n",
    "    c_tok+=len(b)\n",
    "    c_voc= len(s_voc)\n",
    "    heap_tok.append(c_tok)\n",
    "    heap_voc.append(c_voc)\n",
    "    sum+=len(a)\n",
    "\n",
    "no_tokens = len(arr)\n",
    "print(\"No. of tokens \", no_tokens)\n",
    "\n",
    "type_arr = np.unique(arr)\n",
    "no_type = len(type_arr)\n",
    "\n",
    "print(\"No. of Types\", no_type)\n",
    "print(\"TTR\",no_type/no_tokens)\n"
   ]
  },
  {
   "cell_type": "markdown",
   "metadata": {},
   "source": [
    "# Question 2 (Zipf's Law for Length and Frequency Graph)"
   ]
  },
  {
   "cell_type": "code",
   "execution_count": 60,
   "metadata": {},
   "outputs": [
    {
     "name": "stdout",
     "output_type": "stream",
     "text": [
      "Length = 9.132130272878975 * 1 / Frequency\n"
     ]
    },
    {
     "data": {
      "image/png": "[encoded data removed]",
      "text/plain": [
       "<Figure size 432x288 with 1 Axes>"
      ]
     },
     "metadata": {
      "needs_background": "light"
     },
     "output_type": "display_data"
    }
   ],
   "source": [
    "def test_zipf1(n,k):\n",
    "    return k*(1/n)\n",
    "\n",
    "frequency_dist = nltk.FreqDist(arr)\n",
    "result = dict()\n",
    "\n",
    "length_arr = []\n",
    "freq_arr = []\n",
    "\n",
    "for word, frequency in frequency_dist.most_common(50000):\n",
    "            result[word] = frequency\n",
    "            length_arr.append(len(word))\n",
    "            freq_arr.append(frequency)\n",
    "\n",
    "param1, param_cov1 = curve_fit(test_zipf1, freq_arr, length_arr)\n",
    "print(\"Length = \"+ str(param1[0]) + \" * 1 / Frequency\")\n",
    "ans = param1[0]/freq_arr\n",
    "\n",
    "plt.scatter(freq_arr,length_arr,s=1, color ='green')\n",
    "plt.plot(freq_arr,ans, '-', color='red')\n",
    "plt.xlabel(\"Frequency of words\")\n",
    "plt.ylabel(\"Length of Words\")\n",
    "plt.show()"
   ]
  },
  {
   "cell_type": "markdown",
   "metadata": {},
   "source": [
    "# Question 2 (Zipf's Law for Meaning and Frequency Graph)"
   ]
  },
  {
   "cell_type": "code",
   "execution_count": 67,
   "metadata": {},
   "outputs": [
    {
     "name": "stdout",
     "output_type": "stream",
     "text": [
      "Meaning = 0.8927070978386349 * Sqrt(Frequency)\n"
     ]
    },
    {
     "data": {
      "image/png": "[encoded data removed]",
      "text/plain": [
       "<Figure size 432x288 with 1 Axes>"
      ]
     },
     "metadata": {
      "needs_background": "light"
     },
     "output_type": "display_data"
    }
   ],
   "source": [
    "def test_zipf2(n,k):\n",
    "    return k*np.sqrt(n)\n",
    "\n",
    "random_words = [type_arr[random.randrange(no_type)]for i in range(5000)]\n",
    "#print(random_words)\n",
    "\n",
    "#rand_words = [\"India\"]\n",
    "words_mean = []\n",
    "freq_words = []\n",
    "\n",
    "for i in random_words:\n",
    "    synonyms = []\n",
    "    for syn in wordnet.synsets(i):\n",
    "        for l in syn.lemmas():\n",
    "            synonyms.append(l.name())\n",
    "    l = len(set(synonyms))\n",
    "    words_mean.append(l)\n",
    "    freq_words.append(result[i])\n",
    "\n",
    "param2, param_cov2 = curve_fit(test_zipf2, freq_words, words_mean)\n",
    "print(\"Meaning = \"+ str(param2[0]) + \" * Sqrt(Frequency)\")\n",
    "ans1 = param2[0]*np.sqrt(freq_words)\n",
    "\n",
    "plt.scatter(freq_words,words_mean,s=1, color ='red')\n",
    "#plt.plot(freq_words,ans1,color=\"green\")\n",
    "plt.xlabel(\"Frequency of words\")\n",
    "plt.ylabel(\"Meaning of words\")\n",
    "plt.show()"
   ]
  },
  {
   "cell_type": "markdown",
   "metadata": {},
   "source": [
    "# Question 3 (Heap's Law)"
   ]
  },
  {
   "cell_type": "code",
   "execution_count": 71,
   "metadata": {},
   "outputs": [
    {
     "name": "stdout",
     "output_type": "stream",
     "text": [
      "V = 10.887305419830385*(N^0.657968907783682)\n",
      "10.887305419830385 0.657968907783682\n"
     ]
    },
    {
     "data": {
      "image/png": "[encoded data removed]",
      "text/plain": [
       "<Figure size 432x288 with 1 Axes>"
      ]
     },
     "metadata": {
      "needs_background": "light"
     },
     "output_type": "display_data"
    }
   ],
   "source": [
    "def test(n, k, beta):\n",
    "    return k * np.power(n, beta)\n",
    "\n",
    "param, param_cov = curve_fit(test, heap_tok, heap_voc)\n",
    "\n",
    "K = param[0]\n",
    "beta = param[1]\n",
    "print(\"V = \" +str(K)+\"*(N^\"+str(beta)+\")\")\n",
    "print(K,beta)\n",
    "\n",
    "plt.scatter(heap_tok,heap_voc,s=0.001,color ='red')\n",
    "plt.plot(heap_tok,K*np.power(heap_tok,beta), color='green')\n",
    "plt.xlabel(\"No. of Tokens\")\n",
    "plt.ylabel(\"Vocabulary Count\")\n",
    "plt.show()"
   ]
  }
 ],
 "metadata": {
  "kernelspec": {
   "display_name": "Python 3",
   "language": "python",
   "name": "python3"
  },
  "language_info": {
   "codemirror_mode": {
    "name": "ipython",
    "version": 3
   },
   "file_extension": ".py",
   "mimetype": "text/x-python",
   "name": "python",
   "nbconvert_exporter": "python",
   "pygments_lexer": "ipython3",
   "version": "3.6.7"
  }
 },
 "nbformat": 4,
 "nbformat_minor": 2
}
